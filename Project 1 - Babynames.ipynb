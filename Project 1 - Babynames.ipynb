{
 "cells": [
  {
   "cell_type": "code",
   "execution_count": 1,
   "metadata": {
    "collapsed": true
   },
   "outputs": [],
   "source": [
    "import pandas as pd\n",
    "import matplotlib.pyplot as plt\n",
    "import numpy as np\n",
    "import os\n",
    "from os.path import join"
   ]
  },
  {
   "cell_type": "code",
   "execution_count": 124,
   "metadata": {},
   "outputs": [],
   "source": [
    "class BabyNames(object):\n",
    "    def __init__(self, path): \n",
    "        newlist = []\n",
    "        columns = ['state','sex','year', 'name', 'occurances']\n",
    "\n",
    "        for filename in os.listdir(path):\n",
    "            if filename.endswith('.TXT'):\n",
    "                df = pd.read_csv(join(path, filename), names=columns)\n",
    "                newlist.append(df)\n",
    "        self.names = pd.concat(newlist,ignore_index = True)\n",
    "    \n",
    "    def Count(self, state = '', year = ''): \n",
    "        if state == '': \n",
    "            state = self.names.state\n",
    "        if year == '':\n",
    "            year = self.names.year\n",
    "        return(self.names[(self.names.state.isin([state])) & (self.names.year.isin([year]))]['occurances'].sum())\n",
    "        \n",
    "    \n",
    "    def Top10BabyNames(self, state ='', year = ''):\n",
    "        if state == '': \n",
    "            state = self.names.state\n",
    "        if year == '':\n",
    "            year = self.names.year\n",
    "        t = self.names[(self.names.state.isin([state])) & (self.names.year.isin([year]))]                                              \n",
    "        data = {'Male': t[t.sex == \"M\"].groupby('name').sum().sort_values(by = 'occurances', ascending = False).head(10).index.values,\n",
    "                'Female': t[t.sex == \"F\"].groupby('name').sum().sort_values(by = 'occurances', ascending = False).head(10).index.values\n",
    "            }\n",
    "        df = pd.DataFrame(data, index = range(1,11))\n",
    "        df.index.name = \"Rank\"\n",
    "        return(df)\n",
    "        \n",
    "    def ChangeOfPopularity(self, fromYear=2014, toYear=2015, top=10):\n",
    "        fromYear = self.names[self.names.year == fromYear][['name', 'occurances']].groupby('name').sum()\n",
    "        toYear = self.names[self.names.year == toYear][['name', 'occurances']].groupby('name').sum()\n",
    "        year2year = pd.merge(fromYear, toYear, right_index=True, left_index=True)\n",
    "        year2year['diff'] = year2year['occurances_y'] - year2year['occurances_x']\n",
    "        popularNames = toYear.sort_values(by = 'occurances', ascending = False).head(top).index.values\n",
    "        morePopular = year2year.sort_values(by = 'diff', ascending = False).head(top).index.values\n",
    "        lessPopular = year2year.sort_values(by = 'diff').head(top).index.values\n",
    "        return \"Names that increased in popularity: \", morePopular, \"Names that increased in popularity: \",\\\n",
    "                lessPopular, \"Names that are popular (by rank): \", popularNames\n",
    "        \n",
    "        \n",
    "    #def Top5NamesPerYear(year=2015,sex=’’):\n",
    "    #def NamePopularityPlot (name=’Jim’, yearRange=(2000,2015), state=’IL’, sex=’M’):\n",
    "    #def NameFlip(n=10):\n",
    "        \n",
    "\n"
   ]
  },
  {
   "cell_type": "code",
   "execution_count": 125,
   "metadata": {},
   "outputs": [],
   "source": [
    "mypath = '../data/namesbystate/'\n",
    "test = BabyNames(mypath)"
   ]
  },
  {
   "cell_type": "code",
   "execution_count": 76,
   "metadata": {},
   "outputs": [
    {
     "data": {
      "text/plain": [
       "305154531"
      ]
     },
     "execution_count": 76,
     "metadata": {},
     "output_type": "execute_result"
    }
   ],
   "source": [
    "test.Count()"
   ]
  },
  {
   "cell_type": "code",
   "execution_count": 126,
   "metadata": {},
   "outputs": [
    {
     "data": {
      "text/plain": [
       "('Names that increased in popularity: ',\n",
       " array(['Oliver', 'Alexa', 'Hazel', 'Mia', 'Matteo', 'Grayson', 'Charlotte',\n",
       "        'Mateo', 'Lincoln', 'Scarlett'], dtype=object),\n",
       " 'Names that increased in popularity: ',\n",
       " array(['Jayden', 'Isabella', 'Jase', 'Sophia', 'Joshua', 'Annabelle',\n",
       "        'Andrew', 'Michael', 'Peyton', 'Alexis'], dtype=object),\n",
       " 'Names that are popular (by rank): ',\n",
       " array(['Emma', 'Noah', 'Olivia', 'Liam', 'Sophia', 'Mason', 'Ava', 'Jacob',\n",
       "        'William', 'Isabella'], dtype=object))"
      ]
     },
     "execution_count": 126,
     "metadata": {},
     "output_type": "execute_result"
    }
   ],
   "source": [
    "test.ChangeOfPopularity()"
   ]
  },
  {
   "cell_type": "code",
   "execution_count": null,
   "metadata": {
    "collapsed": true
   },
   "outputs": [],
   "source": [
    "        #if state is None and year is None: # no input, returns general sum\n",
    "        #    return(self.data['occurances'].sum())\n",
    "        #elif state is not None and year is None: # no year, yes state, returns sum by state\n",
    "        #    return(self.data[self.data.state == state]['occurances'].sum()) \n",
    "        #elif state is None and year is not None: # no state, yes year, returns sum by year\n",
    "        #    return(self.data[self.data.year == year]['occurances'].sum())\n",
    "        #else: # state and year given\n",
    "        #    return(self.data[(self.data.state == state) & (self.data.year == year)]['occurances'].sum())\n",
    "        \n",
    "        \n",
    "        #\n",
    "        #if state is None and year is None: # no input, returns general sum\n",
    "        #    t = self.data\n",
    "        #elif state is not None and year is None: # no year, yes state, returns sum by state\n",
    "        #    t = self.data[self.data.state == state]\n",
    "        #elif state is None and year is not None: # no state, yes year, returns sum by year\n",
    "        #    t = self.data[self.data.year == year]\n",
    "        #else: # state and year given\n",
    "        #    t = self.data[(self.data.state == state) & (self.data.year == year)]"
   ]
  },
  {
   "cell_type": "code",
   "execution_count": 42,
   "metadata": {},
   "outputs": [
    {
     "data": {
      "text/plain": [
       "<__main__.BabyNames at 0x10f5c2f28>"
      ]
     },
     "execution_count": 42,
     "metadata": {},
     "output_type": "execute_result"
    }
   ],
   "source": []
  },
  {
   "cell_type": "code",
   "execution_count": null,
   "metadata": {
    "collapsed": true
   },
   "outputs": [],
   "source": []
  }
 ],
 "metadata": {
  "kernelspec": {
   "display_name": "Python [default]",
   "language": "python",
   "name": "python3"
  },
  "language_info": {
   "codemirror_mode": {
    "name": "ipython",
    "version": 3
   },
   "file_extension": ".py",
   "mimetype": "text/x-python",
   "name": "python",
   "nbconvert_exporter": "python",
   "pygments_lexer": "ipython3",
   "version": "3.6.1"
  }
 },
 "nbformat": 4,
 "nbformat_minor": 2
}
