{
 "cells": [
  {
   "cell_type": "code",
   "execution_count": 105,
   "metadata": {},
   "outputs": [
    {
     "name": "stdout",
     "output_type": "stream",
     "text": [
      "Populating the interactive namespace from numpy and matplotlib\n"
     ]
    },
    {
     "name": "stderr",
     "output_type": "stream",
     "text": [
      "/Users/laurenelisegardiner/anaconda/lib/python3.6/site-packages/IPython/core/magics/pylab.py:161: UserWarning: pylab import has clobbered these variables: ['test']\n",
      "`%matplotlib` prevents importing * from pylab and numpy\n",
      "  \"\\n`%matplotlib` prevents importing * from pylab and numpy\"\n"
     ]
    }
   ],
   "source": [
    "import pandas as pd\n",
    "import matplotlib.pyplot as plt\n",
    "import numpy as np\n",
    "import os\n",
    "from os.path import join\n",
    "\n",
    "%pylab inline"
   ]
  },
  {
   "cell_type": "code",
   "execution_count": 109,
   "metadata": {},
   "outputs": [],
   "source": [
    "class BabyNames(object):    \n",
    "    def __init__(self, path): \n",
    "        newlist = []\n",
    "        columns = ['state','sex','year', 'name', 'occurances']\n",
    "\n",
    "        for filename in os.listdir(path):\n",
    "            if filename.endswith('.TXT'):\n",
    "                df = pd.read_csv(join(path, filename), names=columns)\n",
    "                newlist.append(df)\n",
    "        self.names = pd.concat(newlist,ignore_index = True)\n",
    "        \n",
    "        def add_prop(group):\n",
    "            group['prop'] = group.occurances / group.occurances.sum()\n",
    "            return group\n",
    "    \n",
    "        self.names = self.names.groupby(['year','state']).apply(add_prop)\n",
    "    \n",
    "    def Count(self, state = '', year = ''): \n",
    "        if state == '': \n",
    "            state = self.names.state\n",
    "        if year == '':\n",
    "            year = self.names.year\n",
    "        return(self.names[(self.names.state.isin([state])) & (self.names.year.isin([year]))]['occurances'].sum())\n",
    "        \n",
    "    \n",
    "    def Top10BabyNames(self, state ='', year = ''):\n",
    "        if state == '': \n",
    "            state = self.names.state\n",
    "        if year == '':\n",
    "            year = self.names.year\n",
    "        t = self.names[(self.names.state.isin([state])) & (self.names.year.isin([year]))]                                              \n",
    "        data = {'Male': t[t.sex == \"M\"].groupby('name').sum().sort_values(by = 'occurances', ascending = False).head(10).index.values,\n",
    "                'Female': t[t.sex == \"F\"].groupby('name').sum().sort_values(by = 'occurances', ascending = False).head(10).index.values\n",
    "            }\n",
    "        df = pd.DataFrame(data, index = range(1,11))\n",
    "        df.index.name = \"Rank\"\n",
    "        return(df)\n",
    "        \n",
    "    def ChangeOfPopularity(self, fromYear=2014, toYear=2015, top=10):\n",
    "        fromYear = self.names[self.names.year == fromYear][['name', 'occurances']].groupby('name').sum()\n",
    "        toYear = self.names[self.names.year == toYear][['name', 'occurances']].groupby('name').sum()\n",
    "        year2year = pd.merge(fromYear, toYear, right_index=True, left_index=True)\n",
    "        year2year['diff'] = year2year['occurances_y'] - year2year['occurances_x']\n",
    "        popularNames = toYear.sort_values(by = 'occurances', ascending = False).head(top).index.values\n",
    "        morePopular = year2year.sort_values(by = 'diff', ascending = False).head(top).index.values\n",
    "        lessPopular = year2year.sort_values(by = 'diff').head(top).index.values\n",
    "        return \"Names that increased in popularity: \", morePopular, \"Names that increased in popularity: \",\\\n",
    "                lessPopular, \"Names that are popular (by rank): \", popularNames\n",
    "        \n",
    "        \n",
    "#     def Top5NamesPerYear(self, year=2015,sex=''):\n",
    "\n",
    "\n",
    "    def NamePopularityPlot(self, name='Jim', yearRange=(2000,2015), state='IL', sex='M'):\n",
    "        startYear = yearRange[0]\n",
    "        endYear = yearRange[1]\n",
    "        \n",
    "        years = []\n",
    "        props = []\n",
    "        for year in range(startYear, endYear + 1):\n",
    "            years.append(year)\n",
    "            if self.names[(self.names.name == name) & (self.names.year == year) &\\\n",
    "                           (self.names.state == state)][['prop']].empty:\n",
    "                props.append(0.0)\n",
    "            else:\n",
    "                props.append(self.names[(self.names.name == name) & (self.names.year == year) &\\\n",
    "                                        (self.names.state == state)][['prop']].iloc[0])\n",
    "        plt.bar(years, props)\n",
    "        plt.xlabel('Year')\n",
    "        plt.ylabel('Proportion')\n",
    "        plt.title('Change of Proportion of Birth Name')\n",
    "        \n",
    "    #def NameFlip(n=10):\n",
    "        \n",
    "\n"
   ]
  },
  {
   "cell_type": "code",
   "execution_count": 110,
   "metadata": {},
   "outputs": [],
   "source": [
    "mypath = '../data/namesbystate/'\n",
    "test = BabyNames(mypath)"
   ]
  },
  {
   "cell_type": "code",
   "execution_count": 113,
   "metadata": {},
   "outputs": [
    {
     "data": {
      "image/png": "[encoded data removed]",
      "text/plain": [
       "<matplotlib.figure.Figure at 0x1c6efdeb8>"
      ]
     },
     "metadata": {},
     "output_type": "display_data"
    }
   ],
   "source": [
    "test.NamePopularityPlot(name='Sarah')"
   ]
  },
  {
   "cell_type": "code",
   "execution_count": null,
   "metadata": {
    "collapsed": true
   },
   "outputs": [],
   "source": []
  }
 ],
 "metadata": {
  "kernelspec": {
   "display_name": "Python [default]",
   "language": "python",
   "name": "python3"
  },
  "language_info": {
   "codemirror_mode": {
    "name": "ipython",
    "version": 3
   },
   "file_extension": ".py",
   "mimetype": "text/x-python",
   "name": "python",
   "nbconvert_exporter": "python",
   "pygments_lexer": "ipython3",
   "version": "3.6.1"
  }
 },
 "nbformat": 4,
 "nbformat_minor": 2
}
