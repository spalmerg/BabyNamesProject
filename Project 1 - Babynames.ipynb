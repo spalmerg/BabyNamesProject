{
 "cells": [
  {
   "cell_type": "code",
   "execution_count": 1,
   "metadata": {
    "collapsed": true
   },
   "outputs": [],
   "source": [
    "import pandas as pd\n",
    "import matplotlib.pyplot as plt\n",
    "import numpy as np\n",
    "import os"
   ]
  },
  {
   "cell_type": "code",
   "execution_count": 40,
   "metadata": {
    "collapsed": true
   },
   "outputs": [],
   "source": [
    "class BabyNames(object):\n",
    "    def __init__(self, path): \n",
    "        newlist = []\n",
    "        columns = ['state','sex','year', 'name', 'occurances']\n",
    "\n",
    "        for filename in os.listdir(path):\n",
    "            if filename.endswith('.TXT'):\n",
    "                df = pd.read_csv(join(path, filename), names=columns)\n",
    "                newlist.append(df)\n",
    "        self.names = pd.concat(newlist,ignore_index = True)\n",
    "    \n",
    "    def Count(self, state = '', year = ''): \n",
    "        self.state = state\n",
    "        self.year = year\n",
    "        if self.state == '': \n",
    "            self.state = self.data.state\n",
    "        if self.year == '':\n",
    "            self.year = self.data.year\n",
    "        return(self.data[(self.data.state.isin([self.state])) & (self.data.year.isin([self.year]))]['occurances'].sum())\n",
    "        \n",
    "    \n",
    "    def Top10BabyNames(self, state ='', year = ''):\n",
    "        if state == '': \n",
    "            state = self.data.state\n",
    "        if year == '':\n",
    "            year = self.data.year\n",
    "        t = self.data[(self.data.state.isin([state])) & (self.data.year.isin([year]))]\n",
    "                                                       \n",
    "        data = {'Male': t[t.sex == \"M\"].groupby('name').sum().sort_values(by = 'occurances', ascending = False).head(10).index.values,\n",
    "                'Female': t[t.sex == \"F\"].groupby('name').sum().sort_values(by = 'occurances', ascending = False).head(10).index.values\n",
    "            }\n",
    "        df = pd.DataFrame(data, index = range(1,11))\n",
    "        df.index.name = \"Rank\"\n",
    "        return(df)\n",
    "        \n",
    "        \n",
    "        \n",
    "    #def ChangeOfPopularity(fromYear=2014, toYear=2015, top=10):\n",
    "    #def Top5NamesPerYear(year=2015,sex=’’):\n",
    "    #def NamePopularityPlot (name=’Jim’, yearRange=(2000,2015), state=’IL’, sex=’M’):\n",
    "    #def NameFlip(n=10):\n",
    "        \n",
    "\n"
   ]
  },
  {
   "cell_type": "code",
   "execution_count": 41,
   "metadata": {
    "collapsed": true
   },
   "outputs": [],
   "source": [
    "mypath = './data/namesbystate/'\n",
    "test = BabyNames(mypath)"
   ]
  },
  {
   "cell_type": "code",
   "execution_count": 42,
   "metadata": {},
   "outputs": [
    {
     "data": {
      "text/plain": [
       "104214"
      ]
     },
     "execution_count": 42,
     "metadata": {},
     "output_type": "execute_result"
    }
   ],
   "source": [
    "test.Count(\"MI\", 2004)"
   ]
  },
  {
   "cell_type": "code",
   "execution_count": 44,
   "metadata": {},
   "outputs": [
    {
     "data": {
      "text/html": [
       "<div>\n",
       "<style>\n",
       "    .dataframe thead tr:only-child th {\n",
       "        text-align: right;\n",
       "    }\n",
       "\n",
       "    .dataframe thead th {\n",
       "        text-align: left;\n",
       "    }\n",
       "\n",
       "    .dataframe tbody tr th {\n",
       "        vertical-align: top;\n",
       "    }\n",
       "</style>\n",
       "<table border=\"1\" class=\"dataframe\">\n",
       "  <thead>\n",
       "    <tr style=\"text-align: right;\">\n",
       "      <th></th>\n",
       "      <th>Female</th>\n",
       "      <th>Male</th>\n",
       "    </tr>\n",
       "    <tr>\n",
       "      <th>Rank</th>\n",
       "      <th></th>\n",
       "      <th></th>\n",
       "    </tr>\n",
       "  </thead>\n",
       "  <tbody>\n",
       "    <tr>\n",
       "      <th>1</th>\n",
       "      <td>Mary</td>\n",
       "      <td>James</td>\n",
       "    </tr>\n",
       "    <tr>\n",
       "      <th>2</th>\n",
       "      <td>Patricia</td>\n",
       "      <td>John</td>\n",
       "    </tr>\n",
       "    <tr>\n",
       "      <th>3</th>\n",
       "      <td>Elizabeth</td>\n",
       "      <td>Robert</td>\n",
       "    </tr>\n",
       "    <tr>\n",
       "      <th>4</th>\n",
       "      <td>Jennifer</td>\n",
       "      <td>Michael</td>\n",
       "    </tr>\n",
       "    <tr>\n",
       "      <th>5</th>\n",
       "      <td>Linda</td>\n",
       "      <td>William</td>\n",
       "    </tr>\n",
       "    <tr>\n",
       "      <th>6</th>\n",
       "      <td>Barbara</td>\n",
       "      <td>David</td>\n",
       "    </tr>\n",
       "    <tr>\n",
       "      <th>7</th>\n",
       "      <td>Margaret</td>\n",
       "      <td>Richard</td>\n",
       "    </tr>\n",
       "    <tr>\n",
       "      <th>8</th>\n",
       "      <td>Susan</td>\n",
       "      <td>Joseph</td>\n",
       "    </tr>\n",
       "    <tr>\n",
       "      <th>9</th>\n",
       "      <td>Dorothy</td>\n",
       "      <td>Charles</td>\n",
       "    </tr>\n",
       "    <tr>\n",
       "      <th>10</th>\n",
       "      <td>Jessica</td>\n",
       "      <td>Thomas</td>\n",
       "    </tr>\n",
       "  </tbody>\n",
       "</table>\n",
       "</div>"
      ],
      "text/plain": [
       "         Female     Male\n",
       "Rank                    \n",
       "1          Mary    James\n",
       "2      Patricia     John\n",
       "3     Elizabeth   Robert\n",
       "4      Jennifer  Michael\n",
       "5         Linda  William\n",
       "6       Barbara    David\n",
       "7      Margaret  Richard\n",
       "8         Susan   Joseph\n",
       "9       Dorothy  Charles\n",
       "10      Jessica   Thomas"
      ]
     },
     "execution_count": 44,
     "metadata": {},
     "output_type": "execute_result"
    }
   ],
   "source": [
    "test.Top10BabyNames()"
   ]
  },
  {
   "cell_type": "code",
   "execution_count": null,
   "metadata": {
    "collapsed": true
   },
   "outputs": [],
   "source": [
    "        #if state is None and year is None: # no input, returns general sum\n",
    "        #    return(self.data['occurances'].sum())\n",
    "        #elif state is not None and year is None: # no year, yes state, returns sum by state\n",
    "        #    return(self.data[self.data.state == state]['occurances'].sum()) \n",
    "        #elif state is None and year is not None: # no state, yes year, returns sum by year\n",
    "        #    return(self.data[self.data.year == year]['occurances'].sum())\n",
    "        #else: # state and year given\n",
    "        #    return(self.data[(self.data.state == state) & (self.data.year == year)]['occurances'].sum())\n",
    "        \n",
    "        \n",
    "        #\n",
    "        #if state is None and year is None: # no input, returns general sum\n",
    "        #    t = self.data\n",
    "        #elif state is not None and year is None: # no year, yes state, returns sum by state\n",
    "        #    t = self.data[self.data.state == state]\n",
    "        #elif state is None and year is not None: # no state, yes year, returns sum by year\n",
    "        #    t = self.data[self.data.year == year]\n",
    "        #else: # state and year given\n",
    "        #    t = self.data[(self.data.state == state) & (self.data.year == year)]"
   ]
  }
 ],
 "metadata": {
  "kernelspec": {
   "display_name": "Python [default]",
   "language": "python",
   "name": "python3"
  },
  "language_info": {
   "codemirror_mode": {
    "name": "ipython",
    "version": 3
   },
   "file_extension": ".py",
   "mimetype": "text/x-python",
   "name": "python",
   "nbconvert_exporter": "python",
   "pygments_lexer": "ipython3",
   "version": "3.6.1"
  }
 },
 "nbformat": 4,
 "nbformat_minor": 2
}
